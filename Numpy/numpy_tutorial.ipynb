{
 "cells": [
  {
   "cell_type": "code",
   "execution_count": null,
   "id": "60f84191",
   "metadata": {},
   "outputs": [],
   "source": [
    "### Video Link - https://youtu.be/vrDPtxnSWos "
   ]
  },
  {
   "cell_type": "code",
   "execution_count": 1,
   "id": "233033d9-6597-41cb-9e3a-40f61641cd75",
   "metadata": {},
   "outputs": [
    {
     "name": "stdout",
     "output_type": "stream",
     "text": [
      "Requirement already satisfied: numpy in /opt/anaconda3/lib/python3.12/site-packages (1.26.4)\n",
      "Note: you may need to restart the kernel to use updated packages.\n"
     ]
    }
   ],
   "source": [
    "pip install numpy"
   ]
  },
  {
   "cell_type": "code",
   "execution_count": 3,
   "id": "ef3d3781-c06b-4fdf-89f9-c2d8d30b80a5",
   "metadata": {},
   "outputs": [],
   "source": [
    "import numpy as np"
   ]
  },
  {
   "cell_type": "code",
   "execution_count": 5,
   "id": "02555d3f-f882-4662-a551-aca9030a7b58",
   "metadata": {},
   "outputs": [
    {
     "data": {
      "text/plain": [
       "(2, 3)"
      ]
     },
     "execution_count": 5,
     "metadata": {},
     "output_type": "execute_result"
    }
   ],
   "source": [
    "a = np.array([[1, 2, 3],\n",
    "              [4, 5, 6]])\n",
    "a.shape"
   ]
  },
  {
   "cell_type": "code",
   "execution_count": 7,
   "id": "013654a1-df58-4ee0-8e6c-9c73cb70c02c",
   "metadata": {},
   "outputs": [
    {
     "data": {
      "text/plain": [
       "array([1, 2, 3, 4, 5, 6])"
      ]
     },
     "execution_count": 7,
     "metadata": {},
     "output_type": "execute_result"
    }
   ],
   "source": [
    "a = np.array([1, 2, 3, 4, 5, 6])\n",
    "a"
   ]
  },
  {
   "cell_type": "code",
   "execution_count": 9,
   "id": "0ea1836c-62cd-4543-8df0-1f5b046dcd54",
   "metadata": {},
   "outputs": [
    {
     "data": {
      "text/plain": [
       "3"
      ]
     },
     "execution_count": 9,
     "metadata": {},
     "output_type": "execute_result"
    }
   ],
   "source": [
    "a[2]"
   ]
  },
  {
   "cell_type": "code",
   "execution_count": 11,
   "id": "044fa563-1235-41c9-8554-572910a4a547",
   "metadata": {},
   "outputs": [],
   "source": [
    "a[3] = 13"
   ]
  },
  {
   "cell_type": "code",
   "execution_count": 13,
   "id": "5d388621-e31e-4824-9bfe-d20844977a89",
   "metadata": {},
   "outputs": [
    {
     "data": {
      "text/plain": [
       "array([ 1,  2,  3, 13,  5,  6])"
      ]
     },
     "execution_count": 13,
     "metadata": {},
     "output_type": "execute_result"
    }
   ],
   "source": [
    "a"
   ]
  },
  {
   "cell_type": "code",
   "execution_count": 17,
   "id": "a6470186-45a6-4b8d-83de-abdd724301ca",
   "metadata": {},
   "outputs": [],
   "source": [
    "b = a[:2]"
   ]
  },
  {
   "cell_type": "code",
   "execution_count": 15,
   "id": "f8bf7ec2-c6aa-4d1b-b773-863864a9a2c5",
   "metadata": {},
   "outputs": [
    {
     "data": {
      "text/plain": [
       "array([1, 2])"
      ]
     },
     "execution_count": 15,
     "metadata": {},
     "output_type": "execute_result"
    }
   ],
   "source": [
    "b"
   ]
  },
  {
   "cell_type": "code",
   "execution_count": 19,
   "id": "85502759-bcb6-41fb-b29f-ed970fc3cc24",
   "metadata": {},
   "outputs": [
    {
     "data": {
      "text/plain": [
       "2"
      ]
     },
     "execution_count": 19,
     "metadata": {},
     "output_type": "execute_result"
    }
   ],
   "source": [
    "b[1]"
   ]
  },
  {
   "cell_type": "code",
   "execution_count": 21,
   "id": "82806c73-4e8e-4630-a0c7-f4ee21a78e85",
   "metadata": {},
   "outputs": [
    {
     "data": {
      "text/plain": [
       "array([13,  5,  6])"
      ]
     },
     "execution_count": 21,
     "metadata": {},
     "output_type": "execute_result"
    }
   ],
   "source": [
    "a[3:]"
   ]
  },
  {
   "cell_type": "code",
   "execution_count": 23,
   "id": "4cb5a4b0-cbf2-4eef-8e7e-276371357604",
   "metadata": {},
   "outputs": [
    {
     "data": {
      "text/plain": [
       "array([5, 6])"
      ]
     },
     "execution_count": 23,
     "metadata": {},
     "output_type": "execute_result"
    }
   ],
   "source": [
    "a[4:]"
   ]
  },
  {
   "cell_type": "code",
   "execution_count": 31,
   "id": "1419fadb-c3f3-412a-aeb5-a2a40d27c9fe",
   "metadata": {},
   "outputs": [
    {
     "data": {
      "text/plain": [
       "array([[ 1,  2,  3,  4],\n",
       "       [ 5,  6,  7,  8],\n",
       "       [ 9, 10, 11, 12]])"
      ]
     },
     "execution_count": 31,
     "metadata": {},
     "output_type": "execute_result"
    }
   ],
   "source": [
    "a = np.array([[1, 2, 3, 4], [5, 6, 7, 8], [9, 10, 11, 12]])\n",
    "a"
   ]
  },
  {
   "cell_type": "code",
   "execution_count": 33,
   "id": "7d66ab64-c160-4b61-9ccb-da18b688a5fa",
   "metadata": {},
   "outputs": [
    {
     "data": {
      "text/plain": [
       "2"
      ]
     },
     "execution_count": 33,
     "metadata": {},
     "output_type": "execute_result"
    }
   ],
   "source": [
    "a.ndim"
   ]
  },
  {
   "cell_type": "code",
   "execution_count": 37,
   "id": "e72eaecf-46cd-46f2-8f82-bc25c6a7ce07",
   "metadata": {},
   "outputs": [
    {
     "name": "stdout",
     "output_type": "stream",
     "text": [
      "No of Dimensions -  0\n",
      "Shape -  ()\n",
      "Len of Shape -  0\n",
      "Size -  1\n"
     ]
    }
   ],
   "source": [
    "a = np.array(23)\n",
    "print('No of Dimensions - ', a.ndim)\n",
    "print('Shape - ', a.shape)\n",
    "print('Len of Shape - ', len(a.shape))\n",
    "print('Size - ', a.size)"
   ]
  },
  {
   "cell_type": "code",
   "execution_count": 39,
   "id": "260baabc-6ca6-413d-ba26-0e0c015ad848",
   "metadata": {},
   "outputs": [
    {
     "name": "stdout",
     "output_type": "stream",
     "text": [
      "No of Dimensions -  1\n",
      "Shape -  (2,)\n",
      "Len of Shape -  1\n",
      "Size -  2\n"
     ]
    }
   ],
   "source": [
    "a = np.array([1, 2])\n",
    "print('No of Dimensions - ', a.ndim)\n",
    "print('Shape - ', a.shape)\n",
    "print('Len of Shape - ', len(a.shape))\n",
    "print('Size - ', a.size)"
   ]
  },
  {
   "cell_type": "code",
   "execution_count": 41,
   "id": "401cab04-959b-4e7c-a8e9-3e31a5914eb0",
   "metadata": {},
   "outputs": [
    {
     "name": "stdout",
     "output_type": "stream",
     "text": [
      "No of Dimensions -  1\n",
      "Shape -  (3,)\n",
      "Len of Shape -  1\n",
      "Size -  3\n"
     ]
    }
   ],
   "source": [
    "a = np.array([1, 2, 3])\n",
    "print('No of Dimensions - ', a.ndim)\n",
    "print('Shape - ', a.shape)\n",
    "print('Len of Shape - ', len(a.shape))\n",
    "print('Size - ', a.size)"
   ]
  },
  {
   "cell_type": "code",
   "execution_count": 43,
   "id": "0e279b4a-2e48-4ee3-956e-e05dc98fe171",
   "metadata": {},
   "outputs": [
    {
     "name": "stdout",
     "output_type": "stream",
     "text": [
      "No of Dimensions -  2\n",
      "Shape -  (2, 2)\n",
      "Len of Shape -  2\n",
      "Size -  4\n"
     ]
    }
   ],
   "source": [
    "a = np.array([[1, 2], \n",
    "              [1, 2]])\n",
    "print('No of Dimensions - ', a.ndim)\n",
    "print('Shape - ', a.shape)\n",
    "print('Len of Shape - ', len(a.shape))\n",
    "print('Size - ', a.size)"
   ]
  },
  {
   "cell_type": "code",
   "execution_count": 53,
   "id": "263712e5-1c83-48e9-80b0-6954680f1c61",
   "metadata": {},
   "outputs": [
    {
     "name": "stdout",
     "output_type": "stream",
     "text": [
      "No of Dimensions -  2\n",
      "Shape -  (2, 4)\n",
      "Len of Shape -  2\n",
      "Size -  8\n"
     ]
    }
   ],
   "source": [
    "a = np.array([[1, 2, 6, 7], \n",
    "              [1, 2, 6, 7]])\n",
    "print('No of Dimensions - ', a.ndim)\n",
    "print('Shape - ', a.shape)\n",
    "print('Len of Shape - ', len(a.shape))\n",
    "print('Size - ', a.size)"
   ]
  },
  {
   "cell_type": "code",
   "execution_count": 55,
   "id": "fa0f45c3-12fe-4977-bb6e-772d95e69af4",
   "metadata": {},
   "outputs": [
    {
     "name": "stdout",
     "output_type": "stream",
     "text": [
      "No of Dimensions -  3\n",
      "Shape -  (2, 2, 3)\n",
      "Len of Shape -  3\n",
      "Size -  12\n"
     ]
    }
   ],
   "source": [
    "a = np.array([\n",
    "                [[1, 2, 6], \n",
    "                [1, 2, 6]],\n",
    "            \n",
    "                [[1, 2, 5], \n",
    "                [1, 2, 4]]\n",
    "])\n",
    "print('No of Dimensions - ', a.ndim)\n",
    "print('Shape - ', a.shape)\n",
    "print('Len of Shape - ', len(a.shape))\n",
    "print('Size - ', a.size)"
   ]
  },
  {
   "cell_type": "code",
   "execution_count": 57,
   "id": "7b30f961-daf4-409c-be05-f1fcaf8f893b",
   "metadata": {},
   "outputs": [
    {
     "name": "stdout",
     "output_type": "stream",
     "text": [
      "No of Dimensions -  4\n",
      "Shape -  (2, 2, 2, 3)\n",
      "Len of Shape -  4\n",
      "Size -  24\n"
     ]
    }
   ],
   "source": [
    "a = np.array([[\n",
    "                [[1, 2, 6], \n",
    "                [1, 2, 6]],\n",
    "            \n",
    "                [[1, 2, 5], \n",
    "                [1, 2, 4]]\n",
    "            ],\n",
    "             [\n",
    "                [[1, 2, 6], \n",
    "                [1, 2, 6]],\n",
    "            \n",
    "                [[1, 2, 5], \n",
    "                [1, 2, 4]]\n",
    "            ]]\n",
    "            )\n",
    "print('No of Dimensions - ', a.ndim)\n",
    "print('Shape - ', a.shape)\n",
    "print('Len of Shape - ', len(a.shape))\n",
    "print('Size - ', a.size)"
   ]
  },
  {
   "cell_type": "code",
   "execution_count": 59,
   "id": "93987370-9a7d-43f1-b54f-0aab80bb16a1",
   "metadata": {},
   "outputs": [
    {
     "data": {
      "text/plain": [
       "dtype('int64')"
      ]
     },
     "execution_count": 59,
     "metadata": {},
     "output_type": "execute_result"
    }
   ],
   "source": [
    "a.dtype"
   ]
  },
  {
   "cell_type": "code",
   "execution_count": 67,
   "id": "196d4c40-51b4-4a74-a760-f6abe01b8199",
   "metadata": {},
   "outputs": [
    {
     "data": {
      "text/plain": [
       "array([0., 0.])"
      ]
     },
     "execution_count": 67,
     "metadata": {},
     "output_type": "execute_result"
    }
   ],
   "source": [
    "np.zeros(2)"
   ]
  },
  {
   "cell_type": "code",
   "execution_count": 71,
   "id": "b2298252-b8f2-4cb3-a99f-eb8ec69335ee",
   "metadata": {},
   "outputs": [
    {
     "data": {
      "text/plain": [
       "array([[0., 0., 0.],\n",
       "       [0., 0., 0.]])"
      ]
     },
     "execution_count": 71,
     "metadata": {},
     "output_type": "execute_result"
    }
   ],
   "source": [
    "np.zeros((2,3))"
   ]
  },
  {
   "cell_type": "code",
   "execution_count": 75,
   "id": "62846f8b-bb4c-4678-aac1-3f0af18b84f9",
   "metadata": {},
   "outputs": [
    {
     "data": {
      "text/plain": [
       "array([[[[0., 0., 0., 0.],\n",
       "         [0., 0., 0., 0.],\n",
       "         [0., 0., 0., 0.],\n",
       "         [0., 0., 0., 0.],\n",
       "         [0., 0., 0., 0.],\n",
       "         [0., 0., 0., 0.],\n",
       "         [0., 0., 0., 0.]],\n",
       "\n",
       "        [[0., 0., 0., 0.],\n",
       "         [0., 0., 0., 0.],\n",
       "         [0., 0., 0., 0.],\n",
       "         [0., 0., 0., 0.],\n",
       "         [0., 0., 0., 0.],\n",
       "         [0., 0., 0., 0.],\n",
       "         [0., 0., 0., 0.]],\n",
       "\n",
       "        [[0., 0., 0., 0.],\n",
       "         [0., 0., 0., 0.],\n",
       "         [0., 0., 0., 0.],\n",
       "         [0., 0., 0., 0.],\n",
       "         [0., 0., 0., 0.],\n",
       "         [0., 0., 0., 0.],\n",
       "         [0., 0., 0., 0.]]],\n",
       "\n",
       "\n",
       "       [[[0., 0., 0., 0.],\n",
       "         [0., 0., 0., 0.],\n",
       "         [0., 0., 0., 0.],\n",
       "         [0., 0., 0., 0.],\n",
       "         [0., 0., 0., 0.],\n",
       "         [0., 0., 0., 0.],\n",
       "         [0., 0., 0., 0.]],\n",
       "\n",
       "        [[0., 0., 0., 0.],\n",
       "         [0., 0., 0., 0.],\n",
       "         [0., 0., 0., 0.],\n",
       "         [0., 0., 0., 0.],\n",
       "         [0., 0., 0., 0.],\n",
       "         [0., 0., 0., 0.],\n",
       "         [0., 0., 0., 0.]],\n",
       "\n",
       "        [[0., 0., 0., 0.],\n",
       "         [0., 0., 0., 0.],\n",
       "         [0., 0., 0., 0.],\n",
       "         [0., 0., 0., 0.],\n",
       "         [0., 0., 0., 0.],\n",
       "         [0., 0., 0., 0.],\n",
       "         [0., 0., 0., 0.]]]])"
      ]
     },
     "execution_count": 75,
     "metadata": {},
     "output_type": "execute_result"
    }
   ],
   "source": [
    "np.zeros((2,3,7, 4))"
   ]
  },
  {
   "cell_type": "code",
   "execution_count": 77,
   "id": "f80d471f-6fc5-4d8a-b702-8c1a1e4c9539",
   "metadata": {},
   "outputs": [
    {
     "data": {
      "text/plain": [
       "array([1., 1., 1., 1., 1., 1.])"
      ]
     },
     "execution_count": 77,
     "metadata": {},
     "output_type": "execute_result"
    }
   ],
   "source": [
    "np.ones(6)"
   ]
  },
  {
   "cell_type": "code",
   "execution_count": 79,
   "id": "c56dbadd-95a2-4e7f-8f67-d8e2c4028284",
   "metadata": {},
   "outputs": [
    {
     "data": {
      "text/plain": [
       "array([[[1., 1., 1., 1.],\n",
       "        [1., 1., 1., 1.],\n",
       "        [1., 1., 1., 1.]],\n",
       "\n",
       "       [[1., 1., 1., 1.],\n",
       "        [1., 1., 1., 1.],\n",
       "        [1., 1., 1., 1.]],\n",
       "\n",
       "       [[1., 1., 1., 1.],\n",
       "        [1., 1., 1., 1.],\n",
       "        [1., 1., 1., 1.]],\n",
       "\n",
       "       [[1., 1., 1., 1.],\n",
       "        [1., 1., 1., 1.],\n",
       "        [1., 1., 1., 1.]],\n",
       "\n",
       "       [[1., 1., 1., 1.],\n",
       "        [1., 1., 1., 1.],\n",
       "        [1., 1., 1., 1.]],\n",
       "\n",
       "       [[1., 1., 1., 1.],\n",
       "        [1., 1., 1., 1.],\n",
       "        [1., 1., 1., 1.]]])"
      ]
     },
     "execution_count": 79,
     "metadata": {},
     "output_type": "execute_result"
    }
   ],
   "source": [
    "np.ones((6, 3, 4))"
   ]
  },
  {
   "cell_type": "code",
   "execution_count": 81,
   "id": "bfe45c74-5e82-4a16-9387-1cba3e27654e",
   "metadata": {},
   "outputs": [
    {
     "data": {
      "text/plain": [
       "array([4.9e-324, 9.9e-324, 1.5e-323])"
      ]
     },
     "execution_count": 81,
     "metadata": {},
     "output_type": "execute_result"
    }
   ],
   "source": [
    "np.empty(3)"
   ]
  },
  {
   "cell_type": "code",
   "execution_count": 83,
   "id": "9796d73e-781b-4e2c-873e-e9743bf164e8",
   "metadata": {},
   "outputs": [
    {
     "data": {
      "text/plain": [
       "array([[    nan,     nan, 0.e+000,     nan, 5.e-324,     nan, 1.e-323,\n",
       "            nan],\n",
       "       [5.e-324, 0.e+000, 1.e-323, 5.e-324, 5.e-324, 1.e-323, 0.e+000,\n",
       "        5.e-324],\n",
       "       [    nan, 1.e-323,     nan, 5.e-324,     nan, 0.e+000,     nan,\n",
       "            nan]])"
      ]
     },
     "execution_count": 83,
     "metadata": {},
     "output_type": "execute_result"
    }
   ],
   "source": [
    "np.empty((3, 8))"
   ]
  },
  {
   "cell_type": "code",
   "execution_count": 89,
   "id": "71838cce-093a-4aca-bc4f-e6b5265976df",
   "metadata": {},
   "outputs": [
    {
     "data": {
      "text/plain": [
       "array([2. , 2.5, 3. , 3.5, 4. , 4.5, 5. , 5.5, 6. , 6.5, 7. , 7.5, 8. ,\n",
       "       8.5, 9. , 9.5])"
      ]
     },
     "execution_count": 89,
     "metadata": {},
     "output_type": "execute_result"
    }
   ],
   "source": [
    "np.arange(2, 10, 0.5)"
   ]
  },
  {
   "cell_type": "code",
   "execution_count": 95,
   "id": "076a285a-8dad-4712-8a3a-74615dc0302f",
   "metadata": {},
   "outputs": [
    {
     "data": {
      "text/plain": [
       "array([ 0.        ,  1.11111111,  2.22222222,  3.33333333,  4.44444444,\n",
       "        5.55555556,  6.66666667,  7.77777778,  8.88888889, 10.        ])"
      ]
     },
     "execution_count": 95,
     "metadata": {},
     "output_type": "execute_result"
    }
   ],
   "source": [
    "np.linspace(0, 10, 10)"
   ]
  },
  {
   "cell_type": "code",
   "execution_count": 97,
   "id": "14f5efd8-a09f-44bb-b19f-a52d5ec13607",
   "metadata": {},
   "outputs": [
    {
     "data": {
      "text/plain": [
       "array([1, 1])"
      ]
     },
     "execution_count": 97,
     "metadata": {},
     "output_type": "execute_result"
    }
   ],
   "source": [
    "x = np.ones(2, dtype=np.int64)\n",
    "x"
   ]
  },
  {
   "cell_type": "code",
   "execution_count": 99,
   "id": "88a735b1-2680-49a7-b291-0b79c8c91361",
   "metadata": {},
   "outputs": [
    {
     "data": {
      "text/plain": [
       "array([0, 0])"
      ]
     },
     "execution_count": 99,
     "metadata": {},
     "output_type": "execute_result"
    }
   ],
   "source": [
    "x = np.zeros(2, dtype=np.int64)\n",
    "x"
   ]
  },
  {
   "cell_type": "code",
   "execution_count": 101,
   "id": "2a4964fb-cfb7-4dbf-bac3-d3b86010ea90",
   "metadata": {},
   "outputs": [],
   "source": [
    "arr = np.array([2, 1, 5, 3, 7, 4, 6, 8])"
   ]
  },
  {
   "cell_type": "code",
   "execution_count": 103,
   "id": "d7635a7a-42f5-44bc-89fe-095087d0abf1",
   "metadata": {},
   "outputs": [
    {
     "data": {
      "text/plain": [
       "array([1, 2, 3, 4, 5, 6, 7, 8])"
      ]
     },
     "execution_count": 103,
     "metadata": {},
     "output_type": "execute_result"
    }
   ],
   "source": [
    "np.sort(arr)"
   ]
  },
  {
   "cell_type": "code",
   "execution_count": 105,
   "id": "7b965ff5-09c7-4f5a-9816-bbef08192e0e",
   "metadata": {},
   "outputs": [
    {
     "data": {
      "text/plain": [
       "array([1, 2, 0])"
      ]
     },
     "execution_count": 105,
     "metadata": {},
     "output_type": "execute_result"
    }
   ],
   "source": [
    "arr = np.array([30, 10, 20])\n",
    "np.argsort(arr)"
   ]
  },
  {
   "cell_type": "code",
   "execution_count": 113,
   "id": "39f3710e-4964-42e9-99cf-190e02ad363c",
   "metadata": {},
   "outputs": [
    {
     "data": {
      "text/plain": [
       "array([12, 76, 23, 43, 89, 90, 98])"
      ]
     },
     "execution_count": 113,
     "metadata": {},
     "output_type": "execute_result"
    }
   ],
   "source": [
    "arr = np.array([90, 98, 23, 89, 12, 43, 76])\n",
    "np.partition(arr, 5)"
   ]
  },
  {
   "cell_type": "code",
   "execution_count": 117,
   "id": "2741bc39-ab71-4257-a334-8318e66055b8",
   "metadata": {},
   "outputs": [
    {
     "data": {
      "text/plain": [
       "array([1, 2, 3, 4, 5, 6, 7, 8])"
      ]
     },
     "execution_count": 117,
     "metadata": {},
     "output_type": "execute_result"
    }
   ],
   "source": [
    "a = np.array([1, 2, 3, 4])\n",
    "b = np.array([5, 6, 7, 8])\n",
    "np.concatenate((a, b))"
   ]
  },
  {
   "cell_type": "code",
   "execution_count": 127,
   "id": "7620e087-db01-402c-92f7-b7c7092e5feb",
   "metadata": {},
   "outputs": [
    {
     "name": "stdout",
     "output_type": "stream",
     "text": [
      "(2, 2)\n",
      "(1, 2)\n"
     ]
    },
    {
     "data": {
      "text/plain": [
       "array([[1, 2],\n",
       "       [3, 4],\n",
       "       [5, 6],\n",
       "       [8, 9]])"
      ]
     },
     "execution_count": 127,
     "metadata": {},
     "output_type": "execute_result"
    }
   ],
   "source": [
    "x = np.array([[1, 2], [3, 4]])\n",
    "y = np.array([[5, 6]])\n",
    "z = np.array([[8,9]])\n",
    "np.concatenate((x, y, z), axis=0)"
   ]
  },
  {
   "cell_type": "code",
   "execution_count": 177,
   "id": "158065f4-0cd0-42e9-aeb1-6e59ced4493a",
   "metadata": {},
   "outputs": [],
   "source": [
    "a = np.arange(2, 10, 2)"
   ]
  },
  {
   "cell_type": "code",
   "execution_count": 179,
   "id": "7b401956-85a5-4965-8511-ecc671b82f8e",
   "metadata": {},
   "outputs": [
    {
     "data": {
      "text/plain": [
       "array([2, 4, 6, 8])"
      ]
     },
     "execution_count": 179,
     "metadata": {},
     "output_type": "execute_result"
    }
   ],
   "source": [
    "a"
   ]
  },
  {
   "cell_type": "code",
   "execution_count": 185,
   "id": "65e15d0a-1198-47a3-aa76-6159190f4f51",
   "metadata": {},
   "outputs": [
    {
     "data": {
      "text/plain": [
       "array([[2, 4],\n",
       "       [6, 8]])"
      ]
     },
     "execution_count": 185,
     "metadata": {},
     "output_type": "execute_result"
    }
   ],
   "source": [
    "a.reshape(2,2)"
   ]
  },
  {
   "cell_type": "code",
   "execution_count": 187,
   "id": "17970b18-75ab-4e06-a229-1daae29794bd",
   "metadata": {},
   "outputs": [],
   "source": [
    "a = np.arange(1, 7)"
   ]
  },
  {
   "cell_type": "code",
   "execution_count": 189,
   "id": "f9371e6f-e0df-496e-85ad-21d1d838e207",
   "metadata": {},
   "outputs": [
    {
     "data": {
      "text/plain": [
       "array([1, 2, 3, 4, 5, 6])"
      ]
     },
     "execution_count": 189,
     "metadata": {},
     "output_type": "execute_result"
    }
   ],
   "source": [
    "a"
   ]
  },
  {
   "cell_type": "code",
   "execution_count": 191,
   "id": "8bc0b682-10c9-42c2-af4c-db1958cfaa68",
   "metadata": {},
   "outputs": [
    {
     "data": {
      "text/plain": [
       "array([[1, 2, 3],\n",
       "       [4, 5, 6]])"
      ]
     },
     "execution_count": 191,
     "metadata": {},
     "output_type": "execute_result"
    }
   ],
   "source": [
    "a.reshape(2,3)"
   ]
  },
  {
   "cell_type": "code",
   "execution_count": 193,
   "id": "51e125e8-4cf6-455e-bff8-e7ecf66cfd88",
   "metadata": {},
   "outputs": [
    {
     "data": {
      "text/plain": [
       "array([[1, 2],\n",
       "       [3, 4],\n",
       "       [5, 6]])"
      ]
     },
     "execution_count": 193,
     "metadata": {},
     "output_type": "execute_result"
    }
   ],
   "source": [
    "a.reshape(3,2)"
   ]
  },
  {
   "cell_type": "code",
   "execution_count": 207,
   "id": "2e3a3180-afa4-4f3a-8948-fb0647666233",
   "metadata": {},
   "outputs": [
    {
     "data": {
      "text/plain": [
       "array([0, 1, 2, 3, 4, 5])"
      ]
     },
     "execution_count": 207,
     "metadata": {},
     "output_type": "execute_result"
    }
   ],
   "source": [
    "arr = np.arange(6)\n",
    "arr"
   ]
  },
  {
   "cell_type": "code",
   "execution_count": 209,
   "id": "f9a9aa0d-2911-4ba2-abf2-ae69c5445a69",
   "metadata": {},
   "outputs": [
    {
     "data": {
      "text/plain": [
       "array([[0, 1],\n",
       "       [2, 3],\n",
       "       [4, 5]])"
      ]
     },
     "execution_count": 209,
     "metadata": {},
     "output_type": "execute_result"
    }
   ],
   "source": [
    "np.reshape(arr, (3,2))"
   ]
  },
  {
   "cell_type": "code",
   "execution_count": 205,
   "id": "43ba81dd-4c5a-450d-b832-1b190621a7ff",
   "metadata": {},
   "outputs": [
    {
     "data": {
      "text/plain": [
       "array([[0, 2, 4],\n",
       "       [1, 3, 5]])"
      ]
     },
     "execution_count": 205,
     "metadata": {},
     "output_type": "execute_result"
    }
   ],
   "source": [
    "np.reshape(arr, (2, 3), order='F')"
   ]
  },
  {
   "cell_type": "code",
   "execution_count": 211,
   "id": "b8588297-9ce4-4724-b552-887d781ba9cd",
   "metadata": {},
   "outputs": [
    {
     "data": {
      "text/plain": [
       "array([[0, 1, 2],\n",
       "       [3, 4, 5]])"
      ]
     },
     "execution_count": 211,
     "metadata": {},
     "output_type": "execute_result"
    }
   ],
   "source": [
    "arr = np.arange(6)\n",
    "np.reshape(arr, (3,2))\n",
    "np.reshape(arr, (2,3), order='C')"
   ]
  },
  {
   "cell_type": "code",
   "execution_count": 227,
   "id": "aeeda326-2b53-45d3-8fb0-a1350c96a44a",
   "metadata": {},
   "outputs": [
    {
     "data": {
      "text/plain": [
       "(6,)"
      ]
     },
     "execution_count": 227,
     "metadata": {},
     "output_type": "execute_result"
    }
   ],
   "source": [
    "a = np.array([1, 2, 3, 4, 5, 6])\n",
    "a.shape"
   ]
  },
  {
   "cell_type": "code",
   "execution_count": 229,
   "id": "143b53e3-5b24-4699-8772-2fa5bc96f20f",
   "metadata": {},
   "outputs": [
    {
     "data": {
      "text/plain": [
       "(1, 6)"
      ]
     },
     "execution_count": 229,
     "metadata": {},
     "output_type": "execute_result"
    }
   ],
   "source": [
    "a2 = a[np.newaxis, :]\n",
    "a2.shape"
   ]
  },
  {
   "cell_type": "code",
   "execution_count": 231,
   "id": "e360280f-9dba-4d79-9781-924efe29efb3",
   "metadata": {},
   "outputs": [
    {
     "data": {
      "text/plain": [
       "1"
      ]
     },
     "execution_count": 231,
     "metadata": {},
     "output_type": "execute_result"
    }
   ],
   "source": [
    "a.ndim"
   ]
  },
  {
   "cell_type": "code",
   "execution_count": 233,
   "id": "cd9bf00f-9d26-4a31-a0c8-aa92b4c606c6",
   "metadata": {},
   "outputs": [
    {
     "data": {
      "text/plain": [
       "2"
      ]
     },
     "execution_count": 233,
     "metadata": {},
     "output_type": "execute_result"
    }
   ],
   "source": [
    "a2.ndim"
   ]
  },
  {
   "cell_type": "code",
   "execution_count": 235,
   "id": "9852ff06-fdfe-46e5-b952-166573c68253",
   "metadata": {},
   "outputs": [
    {
     "data": {
      "text/plain": [
       "(6, 1)"
      ]
     },
     "execution_count": 235,
     "metadata": {},
     "output_type": "execute_result"
    }
   ],
   "source": [
    "col_vector = a[:, np.newaxis]\n",
    "col_vector.shape"
   ]
  },
  {
   "cell_type": "code",
   "execution_count": 237,
   "id": "5c3273b5-1a02-4a79-8ce7-40fb48896a4f",
   "metadata": {},
   "outputs": [
    {
     "data": {
      "text/plain": [
       "(6, 1)"
      ]
     },
     "execution_count": 237,
     "metadata": {},
     "output_type": "execute_result"
    }
   ],
   "source": [
    "b = np.expand_dims(a, axis=1)\n",
    "b.shape"
   ]
  },
  {
   "cell_type": "code",
   "execution_count": 239,
   "id": "6214f741-a1d6-4f46-9f9f-cd6998c8445c",
   "metadata": {},
   "outputs": [
    {
     "data": {
      "text/plain": [
       "(1, 6)"
      ]
     },
     "execution_count": 239,
     "metadata": {},
     "output_type": "execute_result"
    }
   ],
   "source": [
    "c = np.expand_dims(a, axis=0)\n",
    "c.shape"
   ]
  },
  {
   "cell_type": "code",
   "execution_count": 241,
   "id": "903fbad1-b600-4494-bac4-4447058b9274",
   "metadata": {},
   "outputs": [],
   "source": [
    "arr = np.array([12, 89, 45])"
   ]
  },
  {
   "cell_type": "code",
   "execution_count": 243,
   "id": "d2893ee0-c418-4944-a500-774a80cdecca",
   "metadata": {},
   "outputs": [
    {
     "data": {
      "text/plain": [
       "array([89, 45])"
      ]
     },
     "execution_count": 243,
     "metadata": {},
     "output_type": "execute_result"
    }
   ],
   "source": [
    "arr[1:]"
   ]
  },
  {
   "cell_type": "code",
   "execution_count": 245,
   "id": "92235e75-f5c2-4956-bfe6-4142c89f397d",
   "metadata": {},
   "outputs": [
    {
     "data": {
      "text/plain": [
       "array([45])"
      ]
     },
     "execution_count": 245,
     "metadata": {},
     "output_type": "execute_result"
    }
   ],
   "source": [
    "arr[2:]"
   ]
  },
  {
   "cell_type": "code",
   "execution_count": 247,
   "id": "5f970ca5-2ffd-40e0-9abd-ba41d596463d",
   "metadata": {},
   "outputs": [
    {
     "data": {
      "text/plain": [
       "45"
      ]
     },
     "execution_count": 247,
     "metadata": {},
     "output_type": "execute_result"
    }
   ],
   "source": [
    "arr[2]"
   ]
  },
  {
   "cell_type": "code",
   "execution_count": 249,
   "id": "896b1a23-831f-4c7d-a0ea-d612f088b597",
   "metadata": {},
   "outputs": [
    {
     "data": {
      "text/plain": [
       "array([], dtype=int64)"
      ]
     },
     "execution_count": 249,
     "metadata": {},
     "output_type": "execute_result"
    }
   ],
   "source": [
    "arr[3:]"
   ]
  },
  {
   "cell_type": "code",
   "execution_count": 251,
   "id": "9f5b3596-4fd4-484c-b019-3cd632c75390",
   "metadata": {},
   "outputs": [
    {
     "data": {
      "text/plain": [
       "89"
      ]
     },
     "execution_count": 251,
     "metadata": {},
     "output_type": "execute_result"
    }
   ],
   "source": [
    "arr[-2]"
   ]
  },
  {
   "cell_type": "code",
   "execution_count": 253,
   "id": "b31fe2a3-9435-471e-8d61-e306d7c3e3ab",
   "metadata": {},
   "outputs": [
    {
     "data": {
      "text/plain": [
       "array([89, 45])"
      ]
     },
     "execution_count": 253,
     "metadata": {},
     "output_type": "execute_result"
    }
   ],
   "source": [
    "arr[-2:]"
   ]
  },
  {
   "cell_type": "code",
   "execution_count": 257,
   "id": "0e95df28-4def-4236-ba0e-40b5e9b770f9",
   "metadata": {},
   "outputs": [
    {
     "data": {
      "text/plain": [
       "array([12, 89])"
      ]
     },
     "execution_count": 257,
     "metadata": {},
     "output_type": "execute_result"
    }
   ],
   "source": [
    "arr[:-1]"
   ]
  },
  {
   "cell_type": "code",
   "execution_count": 259,
   "id": "745b59b6-521b-40af-b81d-ecbc10f21665",
   "metadata": {},
   "outputs": [],
   "source": [
    "a = np.array([[1 , 2, 3, 4], [5, 6, 7, 8], [9, 10, 11, 12]])"
   ]
  },
  {
   "cell_type": "code",
   "execution_count": 261,
   "id": "67755d9b-8228-4a11-a625-a6146d6439d5",
   "metadata": {},
   "outputs": [
    {
     "data": {
      "text/plain": [
       "array([[ True,  True,  True,  True],\n",
       "       [ True, False, False, False],\n",
       "       [False, False, False, False]])"
      ]
     },
     "execution_count": 261,
     "metadata": {},
     "output_type": "execute_result"
    }
   ],
   "source": [
    "a < 6"
   ]
  },
  {
   "cell_type": "code",
   "execution_count": 263,
   "id": "aec07137-534d-40ae-937a-46cee3dbdc20",
   "metadata": {},
   "outputs": [
    {
     "data": {
      "text/plain": [
       "array([1, 2, 3, 4, 5])"
      ]
     },
     "execution_count": 263,
     "metadata": {},
     "output_type": "execute_result"
    }
   ],
   "source": [
    "a[a<6]"
   ]
  },
  {
   "cell_type": "code",
   "execution_count": 265,
   "id": "e70e6478-c46d-4739-99f2-ac2e7f6a576a",
   "metadata": {},
   "outputs": [],
   "source": [
    "a = np.array([[13 , 62, 3, 42], [75, 6, 7, 84], [93, 10, 2, 12]])"
   ]
  },
  {
   "cell_type": "code",
   "execution_count": 267,
   "id": "d0012540-5882-44af-b25b-4de6f41ac3f8",
   "metadata": {},
   "outputs": [
    {
     "data": {
      "text/plain": [
       "array([[False, False,  True, False],\n",
       "       [False,  True, False, False],\n",
       "       [False, False,  True, False]])"
      ]
     },
     "execution_count": 267,
     "metadata": {},
     "output_type": "execute_result"
    }
   ],
   "source": [
    "a<7"
   ]
  },
  {
   "cell_type": "code",
   "execution_count": 275,
   "id": "40ed3d67-4530-41c3-893a-b26a21682265",
   "metadata": {},
   "outputs": [
    {
     "data": {
      "text/plain": [
       "array([ 3,  6, 84, 93,  2])"
      ]
     },
     "execution_count": 275,
     "metadata": {},
     "output_type": "execute_result"
    }
   ],
   "source": [
    "a[(a<7) | (a>75)]"
   ]
  },
  {
   "cell_type": "code",
   "execution_count": 277,
   "id": "427a7eaa-569b-47b9-a491-c8f67990a6d0",
   "metadata": {},
   "outputs": [
    {
     "data": {
      "text/plain": [
       "(array([0, 1, 1, 2, 2]), array([2, 1, 3, 0, 2]))"
      ]
     },
     "execution_count": 277,
     "metadata": {},
     "output_type": "execute_result"
    }
   ],
   "source": [
    "np.nonzero((a<7) | (a>75))"
   ]
  },
  {
   "cell_type": "code",
   "execution_count": 283,
   "id": "b91780c9-4552-4b1a-9771-1f3548479401",
   "metadata": {},
   "outputs": [],
   "source": [
    "a1 = np.array([[1, 1, 3],\n",
    "               [2, 2, 4]])\n",
    "\n",
    "a2 = np.array([[3, 3, 6],\n",
    "               [4, 4, 7]])"
   ]
  },
  {
   "cell_type": "code",
   "execution_count": 285,
   "id": "84576078-dd5e-4bce-9a0f-7f9669f130ab",
   "metadata": {},
   "outputs": [
    {
     "data": {
      "text/plain": [
       "array([[1, 1, 3],\n",
       "       [2, 2, 4],\n",
       "       [3, 3, 6],\n",
       "       [4, 4, 7]])"
      ]
     },
     "execution_count": 285,
     "metadata": {},
     "output_type": "execute_result"
    }
   ],
   "source": [
    "np.vstack((a1, a2))"
   ]
  },
  {
   "cell_type": "code",
   "execution_count": 287,
   "id": "eaaf8e85-a5b6-4cd5-b67b-741ed721c219",
   "metadata": {},
   "outputs": [
    {
     "data": {
      "text/plain": [
       "array([[ 1,  2,  3,  4,  5,  6,  7,  8,  9, 10, 11, 12],\n",
       "       [13, 14, 15, 16, 17, 18, 19, 20, 21, 22, 23, 24]])"
      ]
     },
     "execution_count": 287,
     "metadata": {},
     "output_type": "execute_result"
    }
   ],
   "source": [
    "x = np.arange(1, 25).reshape(2, 12)\n",
    "x"
   ]
  },
  {
   "cell_type": "code",
   "execution_count": 289,
   "id": "c6cb2f02-6cd5-4a61-b69c-3b5c67afe9b9",
   "metadata": {},
   "outputs": [
    {
     "data": {
      "text/plain": [
       "[array([[ 1,  2,  3,  4],\n",
       "        [13, 14, 15, 16]]),\n",
       " array([[ 5,  6,  7,  8],\n",
       "        [17, 18, 19, 20]]),\n",
       " array([[ 9, 10, 11, 12],\n",
       "        [21, 22, 23, 24]])]"
      ]
     },
     "execution_count": 289,
     "metadata": {},
     "output_type": "execute_result"
    }
   ],
   "source": [
    "np.hsplit(x, 3)"
   ]
  },
  {
   "cell_type": "code",
   "execution_count": 291,
   "id": "f279e2d8-8536-4ec4-bca3-d5ef8be4143e",
   "metadata": {},
   "outputs": [
    {
     "data": {
      "text/plain": [
       "[array([[ 1,  2,  3],\n",
       "        [13, 14, 15]]),\n",
       " array([[ 4],\n",
       "        [16]]),\n",
       " array([[ 5,  6,  7,  8,  9, 10, 11, 12],\n",
       "        [17, 18, 19, 20, 21, 22, 23, 24]])]"
      ]
     },
     "execution_count": 291,
     "metadata": {},
     "output_type": "execute_result"
    }
   ],
   "source": [
    "np.hsplit(x, (3, 4))"
   ]
  },
  {
   "cell_type": "code",
   "execution_count": 295,
   "id": "0e082dbc-5df4-4427-a8af-0facf0da0181",
   "metadata": {},
   "outputs": [
    {
     "data": {
      "text/plain": [
       "[array([[ 1,  2,  3],\n",
       "        [13, 14, 15]]),\n",
       " array([[ 4],\n",
       "        [16]]),\n",
       " array([[ 5,  6,  7],\n",
       "        [17, 18, 19]]),\n",
       " array([[ 8],\n",
       "        [20]]),\n",
       " array([[ 9, 10, 11, 12],\n",
       "        [21, 22, 23, 24]])]"
      ]
     },
     "execution_count": 295,
     "metadata": {},
     "output_type": "execute_result"
    }
   ],
   "source": [
    "np.hsplit(x, (3, 4, 7, 8))"
   ]
  },
  {
   "cell_type": "code",
   "execution_count": 297,
   "id": "0e9bd274-67c6-42a3-9864-116ee1391e7e",
   "metadata": {},
   "outputs": [],
   "source": [
    "arr = np.arange(6)"
   ]
  },
  {
   "cell_type": "code",
   "execution_count": 299,
   "id": "c06683f3-c015-4251-b18b-194e3fc4a8f3",
   "metadata": {},
   "outputs": [],
   "source": [
    "b = arr"
   ]
  },
  {
   "cell_type": "code",
   "execution_count": 301,
   "id": "67961f61-24e4-4c0f-9002-6cfb2bedb75d",
   "metadata": {},
   "outputs": [
    {
     "name": "stdout",
     "output_type": "stream",
     "text": [
      "[0 1 2 3 4 5]\n",
      "[0 1 2 3 4 5]\n"
     ]
    }
   ],
   "source": [
    "print(arr)\n",
    "print(b)"
   ]
  },
  {
   "cell_type": "code",
   "execution_count": 303,
   "id": "4ee0d7ec-31a1-4da2-8f1b-75d6c15595a0",
   "metadata": {},
   "outputs": [],
   "source": [
    "b[2] = 10"
   ]
  },
  {
   "cell_type": "code",
   "execution_count": 305,
   "id": "a8d2e75b-882c-48a8-bb5d-9ad5a5a41cc4",
   "metadata": {},
   "outputs": [
    {
     "name": "stdout",
     "output_type": "stream",
     "text": [
      "[ 0  1 10  3  4  5]\n",
      "[ 0  1 10  3  4  5]\n"
     ]
    }
   ],
   "source": [
    "print(arr)\n",
    "print(b)"
   ]
  },
  {
   "cell_type": "code",
   "execution_count": 307,
   "id": "653147bf-d97c-4875-a1ff-798798ce3286",
   "metadata": {},
   "outputs": [],
   "source": [
    "arr = np.arange(6)"
   ]
  },
  {
   "cell_type": "code",
   "execution_count": 309,
   "id": "e4ed9281-e63e-44dd-94f2-46f0de95f063",
   "metadata": {},
   "outputs": [
    {
     "data": {
      "text/plain": [
       "array([0, 1, 2, 3, 4, 5])"
      ]
     },
     "execution_count": 309,
     "metadata": {},
     "output_type": "execute_result"
    }
   ],
   "source": [
    "arr"
   ]
  },
  {
   "cell_type": "code",
   "execution_count": 311,
   "id": "b6e4bc8c-aaf6-48e7-847f-383ad6bb7209",
   "metadata": {},
   "outputs": [],
   "source": [
    "b = arr[2:4]"
   ]
  },
  {
   "cell_type": "code",
   "execution_count": 313,
   "id": "43765008-87b2-48c2-895f-936109a827a7",
   "metadata": {},
   "outputs": [
    {
     "data": {
      "text/plain": [
       "array([2, 3])"
      ]
     },
     "execution_count": 313,
     "metadata": {},
     "output_type": "execute_result"
    }
   ],
   "source": [
    "b"
   ]
  },
  {
   "cell_type": "code",
   "execution_count": 315,
   "id": "57cd7aa0-dbe4-43ce-9f0d-084fc872cff9",
   "metadata": {},
   "outputs": [],
   "source": [
    "b[1] = 20"
   ]
  },
  {
   "cell_type": "code",
   "execution_count": 317,
   "id": "13de4ae9-bdd7-42f5-853e-ebe020cf32bc",
   "metadata": {},
   "outputs": [
    {
     "data": {
      "text/plain": [
       "array([ 0,  1,  2, 20,  4,  5])"
      ]
     },
     "execution_count": 317,
     "metadata": {},
     "output_type": "execute_result"
    }
   ],
   "source": [
    "arr"
   ]
  },
  {
   "cell_type": "code",
   "execution_count": 319,
   "id": "f50dc60c-a276-4bde-97bc-e302a87541b2",
   "metadata": {},
   "outputs": [],
   "source": [
    "arr = np.arange(6)\n",
    "b = arr.copy()"
   ]
  },
  {
   "cell_type": "code",
   "execution_count": 321,
   "id": "65c4cf8d-b66c-4141-a535-0be699c445b7",
   "metadata": {},
   "outputs": [],
   "source": [
    "b[2] = 20"
   ]
  },
  {
   "cell_type": "code",
   "execution_count": 323,
   "id": "86451512-7006-4441-a828-4fdcfa5d53f7",
   "metadata": {},
   "outputs": [
    {
     "name": "stdout",
     "output_type": "stream",
     "text": [
      "[0 1 2 3 4 5]\n",
      "[ 0  1 20  3  4  5]\n"
     ]
    }
   ],
   "source": [
    "print(arr)\n",
    "print(b)"
   ]
  },
  {
   "cell_type": "code",
   "execution_count": 329,
   "id": "9509b885-99d9-41a1-a6ab-87f27f877592",
   "metadata": {},
   "outputs": [
    {
     "name": "stdout",
     "output_type": "stream",
     "text": [
      "[2 3 4 5 6 7 8 9]\n",
      "[ 5  6  7  8  9 10 11 12]\n"
     ]
    }
   ],
   "source": [
    "a = np.arange(2, 10)\n",
    "b = np.arange(5, 15)\n",
    "print(a)\n",
    "print(b)"
   ]
  },
  {
   "cell_type": "code",
   "execution_count": 331,
   "id": "c0ec5df7-9b7e-4442-a616-b6594d7f71e1",
   "metadata": {},
   "outputs": [
    {
     "data": {
      "text/plain": [
       "array([ 7,  9, 11, 13, 15, 17, 19, 21])"
      ]
     },
     "execution_count": 331,
     "metadata": {},
     "output_type": "execute_result"
    }
   ],
   "source": [
    "a + b"
   ]
  },
  {
   "cell_type": "code",
   "execution_count": 333,
   "id": "bc43aaa5-3d6b-4ef0-b2c9-2539da885698",
   "metadata": {},
   "outputs": [
    {
     "data": {
      "text/plain": [
       "array([-3, -3, -3, -3, -3, -3, -3, -3])"
      ]
     },
     "execution_count": 333,
     "metadata": {},
     "output_type": "execute_result"
    }
   ],
   "source": [
    "a - b"
   ]
  },
  {
   "cell_type": "code",
   "execution_count": 335,
   "id": "ffe79e1d-b327-4153-a000-9e584452ce3f",
   "metadata": {},
   "outputs": [
    {
     "data": {
      "text/plain": [
       "array([ 10,  18,  28,  40,  54,  70,  88, 108])"
      ]
     },
     "execution_count": 335,
     "metadata": {},
     "output_type": "execute_result"
    }
   ],
   "source": [
    "a * b"
   ]
  },
  {
   "cell_type": "code",
   "execution_count": 337,
   "id": "46dff3e9-73a3-4254-b5d7-e09c6c56e8fc",
   "metadata": {},
   "outputs": [
    {
     "data": {
      "text/plain": [
       "array([0.4       , 0.5       , 0.57142857, 0.625     , 0.66666667,\n",
       "       0.7       , 0.72727273, 0.75      ])"
      ]
     },
     "execution_count": 337,
     "metadata": {},
     "output_type": "execute_result"
    }
   ],
   "source": [
    "a / b"
   ]
  },
  {
   "cell_type": "code",
   "execution_count": 339,
   "id": "7840f928-30fd-41fb-97b3-947dbce1a8f0",
   "metadata": {},
   "outputs": [
    {
     "data": {
      "text/plain": [
       "44"
      ]
     },
     "execution_count": 339,
     "metadata": {},
     "output_type": "execute_result"
    }
   ],
   "source": [
    "a.sum()"
   ]
  },
  {
   "cell_type": "code",
   "execution_count": 341,
   "id": "0a101fe9-865c-4ef5-95d7-71ada3983ec2",
   "metadata": {},
   "outputs": [
    {
     "name": "stdout",
     "output_type": "stream",
     "text": [
      "[1 2 3 4 5 6 7 8 9]\n",
      "[1 2 3 4 5 6 7 8 9]\n",
      "45\n"
     ]
    }
   ],
   "source": [
    "a = np.arange(1, 10)\n",
    "b = np.arange(1, 10)\n",
    "print(a)\n",
    "print(b)\n",
    "print(a.sum())"
   ]
  },
  {
   "cell_type": "code",
   "execution_count": 349,
   "id": "ca0cf333-d94b-4a14-905e-415707ba758b",
   "metadata": {},
   "outputs": [],
   "source": [
    "b = a.reshape(3,3)"
   ]
  },
  {
   "cell_type": "code",
   "execution_count": 351,
   "id": "d383b348-521e-4a69-bbca-50947b24f4ec",
   "metadata": {},
   "outputs": [
    {
     "data": {
      "text/plain": [
       "array([12, 15, 18])"
      ]
     },
     "execution_count": 351,
     "metadata": {},
     "output_type": "execute_result"
    }
   ],
   "source": [
    "b.sum(axis = 0)"
   ]
  },
  {
   "cell_type": "code",
   "execution_count": 353,
   "id": "4a40fa56-7eb0-42ed-9cb6-9711fc550504",
   "metadata": {},
   "outputs": [
    {
     "name": "stdout",
     "output_type": "stream",
     "text": [
      "[[1 2 3]\n",
      " [4 5 6]\n",
      " [7 8 9]]\n"
     ]
    },
    {
     "data": {
      "text/plain": [
       "array([12, 15, 18])"
      ]
     },
     "execution_count": 353,
     "metadata": {},
     "output_type": "execute_result"
    }
   ],
   "source": [
    "a = np.arange(1, 10).reshape(3,3)\n",
    "print(a)\n",
    "a.sum(axis = 0)"
   ]
  },
  {
   "cell_type": "code",
   "execution_count": 355,
   "id": "9c052d15-876b-404f-ac7e-904138c33f1e",
   "metadata": {},
   "outputs": [
    {
     "data": {
      "text/plain": [
       "array([ 6, 15, 24])"
      ]
     },
     "execution_count": 355,
     "metadata": {},
     "output_type": "execute_result"
    }
   ],
   "source": [
    "a.sum(axis = 1)"
   ]
  },
  {
   "cell_type": "code",
   "execution_count": 357,
   "id": "5410b9bb-167e-43b4-ae42-8cac1619f50c",
   "metadata": {},
   "outputs": [
    {
     "data": {
      "text/plain": [
       "9"
      ]
     },
     "execution_count": 357,
     "metadata": {},
     "output_type": "execute_result"
    }
   ],
   "source": [
    "a.max()"
   ]
  },
  {
   "cell_type": "code",
   "execution_count": 359,
   "id": "ee8ae0d0-cfd4-4f2c-8572-5ca48b506f32",
   "metadata": {},
   "outputs": [
    {
     "data": {
      "text/plain": [
       "1"
      ]
     },
     "execution_count": 359,
     "metadata": {},
     "output_type": "execute_result"
    }
   ],
   "source": [
    "a.min()"
   ]
  },
  {
   "cell_type": "code",
   "execution_count": 361,
   "id": "986a9223-71c8-4e66-96ef-3b7a86e60e33",
   "metadata": {},
   "outputs": [
    {
     "data": {
      "text/plain": [
       "array([7, 8, 9])"
      ]
     },
     "execution_count": 361,
     "metadata": {},
     "output_type": "execute_result"
    }
   ],
   "source": [
    "a.max(axis = 0)"
   ]
  },
  {
   "cell_type": "code",
   "execution_count": 363,
   "id": "db40d36a-cb1d-43eb-8241-014adf17067c",
   "metadata": {},
   "outputs": [
    {
     "data": {
      "text/plain": [
       "array([1, 4, 7])"
      ]
     },
     "execution_count": 363,
     "metadata": {},
     "output_type": "execute_result"
    }
   ],
   "source": [
    "a.min(axis = 1)"
   ]
  },
  {
   "cell_type": "code",
   "execution_count": 367,
   "id": "5a410a14-1203-4d28-afaf-bfba61d9523e",
   "metadata": {},
   "outputs": [
    {
     "data": {
      "text/plain": [
       "array([  6, 120, 504])"
      ]
     },
     "execution_count": 367,
     "metadata": {},
     "output_type": "execute_result"
    }
   ],
   "source": [
    "a.prod(axis = 1)"
   ]
  },
  {
   "cell_type": "code",
   "execution_count": 369,
   "id": "b79ed8b2-28b0-41f6-bd17-92dd3fc2bd6d",
   "metadata": {},
   "outputs": [
    {
     "data": {
      "text/plain": [
       "array([2., 5., 8.])"
      ]
     },
     "execution_count": 369,
     "metadata": {},
     "output_type": "execute_result"
    }
   ],
   "source": [
    "a.mean(axis = 1)"
   ]
  },
  {
   "cell_type": "code",
   "execution_count": 375,
   "id": "94e2565c-7826-4f08-ba86-3f91e8fd297a",
   "metadata": {},
   "outputs": [
    {
     "data": {
      "text/plain": [
       "2.581988897471611"
      ]
     },
     "execution_count": 375,
     "metadata": {},
     "output_type": "execute_result"
    }
   ],
   "source": [
    "a.std()"
   ]
  },
  {
   "cell_type": "code",
   "execution_count": 377,
   "id": "b93d2580-7804-485e-85aa-a0773b3b16d8",
   "metadata": {},
   "outputs": [
    {
     "data": {
      "text/plain": [
       "array([[8, 4],\n",
       "       [7, 4],\n",
       "       [5, 6]])"
      ]
     },
     "execution_count": 377,
     "metadata": {},
     "output_type": "execute_result"
    }
   ],
   "source": [
    "np.random.randint(2, 9, (3, 2))"
   ]
  },
  {
   "cell_type": "code",
   "execution_count": 393,
   "id": "84cc780e-bfbd-46a6-aa77-1df9df3489ae",
   "metadata": {},
   "outputs": [
    {
     "data": {
      "text/plain": [
       "array([[1, 3, 1, 2],\n",
       "       [1, 4, 4, 4]])"
      ]
     },
     "execution_count": 393,
     "metadata": {},
     "output_type": "execute_result"
    }
   ],
   "source": [
    "rng = np.random.default_rng()\n",
    "rng.integers(5, size=(2, 4)) "
   ]
  },
  {
   "cell_type": "code",
   "execution_count": 397,
   "id": "33f60f43-60e2-4388-93d5-8f3958402fe7",
   "metadata": {},
   "outputs": [],
   "source": [
    "arr = rng.integers(2, 9, (3, 2)) "
   ]
  },
  {
   "cell_type": "code",
   "execution_count": 399,
   "id": "0f003ded-1597-4df3-b7ca-a40ee62ed4a4",
   "metadata": {},
   "outputs": [
    {
     "data": {
      "text/plain": [
       "array([[3, 6],\n",
       "       [8, 6],\n",
       "       [5, 5]])"
      ]
     },
     "execution_count": 399,
     "metadata": {},
     "output_type": "execute_result"
    }
   ],
   "source": [
    "arr"
   ]
  },
  {
   "cell_type": "code",
   "execution_count": 401,
   "id": "69a08281-f831-482b-a6ee-8535c06fdd48",
   "metadata": {},
   "outputs": [
    {
     "data": {
      "text/plain": [
       "array([[3, 8, 5],\n",
       "       [6, 6, 5]])"
      ]
     },
     "execution_count": 401,
     "metadata": {},
     "output_type": "execute_result"
    }
   ],
   "source": [
    "arr.T"
   ]
  },
  {
   "cell_type": "code",
   "execution_count": 403,
   "id": "66de0964-14f9-49fc-8942-95049ef2ef56",
   "metadata": {},
   "outputs": [
    {
     "data": {
      "text/plain": [
       "array([[3, 8, 5],\n",
       "       [6, 6, 5]])"
      ]
     },
     "execution_count": 403,
     "metadata": {},
     "output_type": "execute_result"
    }
   ],
   "source": [
    "arr.transpose()"
   ]
  },
  {
   "cell_type": "code",
   "execution_count": 405,
   "id": "8bb2b5ea-9c26-4c49-9b9b-437f77fb1072",
   "metadata": {},
   "outputs": [
    {
     "data": {
      "text/plain": [
       "array([[3, 6],\n",
       "       [8, 6],\n",
       "       [5, 5]])"
      ]
     },
     "execution_count": 405,
     "metadata": {},
     "output_type": "execute_result"
    }
   ],
   "source": [
    "arr"
   ]
  },
  {
   "cell_type": "code",
   "execution_count": 407,
   "id": "236a5393-50d8-4369-b868-d663ca1cf78b",
   "metadata": {},
   "outputs": [
    {
     "data": {
      "text/plain": [
       "array([[3, 8, 5],\n",
       "       [6, 6, 5]])"
      ]
     },
     "execution_count": 407,
     "metadata": {},
     "output_type": "execute_result"
    }
   ],
   "source": [
    "arr.transpose()"
   ]
  },
  {
   "cell_type": "code",
   "execution_count": 409,
   "id": "7f834a09-5d6d-4a44-80a4-a90d1d694027",
   "metadata": {},
   "outputs": [
    {
     "data": {
      "text/plain": [
       "array([[3, 6],\n",
       "       [8, 6],\n",
       "       [5, 5]])"
      ]
     },
     "execution_count": 409,
     "metadata": {},
     "output_type": "execute_result"
    }
   ],
   "source": [
    "arr"
   ]
  },
  {
   "cell_type": "code",
   "execution_count": 411,
   "id": "1f1d8551-abc7-401e-b0ad-004e15f56c15",
   "metadata": {},
   "outputs": [],
   "source": [
    "arr_2d = np.array([[1, 2, 3, 4], [5, 6, 7, 8], [9, 10, 11, 12]])"
   ]
  },
  {
   "cell_type": "code",
   "execution_count": 413,
   "id": "4a8f65a7-e1b9-49f1-b0e1-fc6da6b315c1",
   "metadata": {},
   "outputs": [
    {
     "name": "stdout",
     "output_type": "stream",
     "text": [
      "[[12 11 10  9]\n",
      " [ 8  7  6  5]\n",
      " [ 4  3  2  1]]\n"
     ]
    }
   ],
   "source": [
    "reversed_arr = np.flip(arr_2d)\n",
    "print(reversed_arr)"
   ]
  },
  {
   "cell_type": "code",
   "execution_count": 415,
   "id": "cc8c1f03-92ef-4338-af7d-2767c3f84eb0",
   "metadata": {},
   "outputs": [
    {
     "data": {
      "text/plain": [
       "array([[ 1,  2,  3,  4],\n",
       "       [ 5,  6,  7,  8],\n",
       "       [ 9, 10, 11, 12]])"
      ]
     },
     "execution_count": 415,
     "metadata": {},
     "output_type": "execute_result"
    }
   ],
   "source": [
    "arr_2d"
   ]
  },
  {
   "cell_type": "code",
   "execution_count": 417,
   "id": "3a8bbb62-ee8d-44df-b698-a3af4f5be17a",
   "metadata": {},
   "outputs": [
    {
     "name": "stdout",
     "output_type": "stream",
     "text": [
      "[[ 9 10 11 12]\n",
      " [ 5  6  7  8]\n",
      " [ 1  2  3  4]]\n"
     ]
    }
   ],
   "source": [
    "reversed_arr_rows = np.flip(arr_2d, axis=0)\n",
    "print(reversed_arr_rows)"
   ]
  },
  {
   "cell_type": "code",
   "execution_count": 419,
   "id": "fcc0e341-8f16-426f-a0f5-f7816205e209",
   "metadata": {},
   "outputs": [
    {
     "name": "stdout",
     "output_type": "stream",
     "text": [
      "[[ 4  3  2  1]\n",
      " [ 8  7  6  5]\n",
      " [12 11 10  9]]\n"
     ]
    }
   ],
   "source": [
    "reversed_arr_columns = np.flip(arr_2d, axis=1)\n",
    "print(reversed_arr_columns)"
   ]
  },
  {
   "cell_type": "code",
   "execution_count": 421,
   "id": "8e00a727-bfb8-4c89-b004-c09edb2e6ba2",
   "metadata": {},
   "outputs": [],
   "source": [
    "x = np.array([[1 , 2, 3, 4], [5, 6, 7, 8], [9, 10, 11, 12]])"
   ]
  },
  {
   "cell_type": "code",
   "execution_count": 423,
   "id": "1fe2b264-6abb-48c8-9a89-db5fad322377",
   "metadata": {},
   "outputs": [
    {
     "data": {
      "text/plain": [
       "array([ 1,  2,  3,  4,  5,  6,  7,  8,  9, 10, 11, 12])"
      ]
     },
     "execution_count": 423,
     "metadata": {},
     "output_type": "execute_result"
    }
   ],
   "source": [
    "x.flatten()"
   ]
  },
  {
   "cell_type": "code",
   "execution_count": 425,
   "id": "d7d3c450-fa31-42a0-8098-3dbc612c29ff",
   "metadata": {},
   "outputs": [
    {
     "name": "stdout",
     "output_type": "stream",
     "text": [
      "[[ 1  2  3  4]\n",
      " [ 5  6  7  8]\n",
      " [ 9 10 11 12]]\n",
      "[99  2  3  4  5  6  7  8  9 10 11 12]\n"
     ]
    }
   ],
   "source": [
    "a1 = x.flatten()\n",
    "a1[0] = 99\n",
    "print(x)  # Original array\n",
    "print(a1)  # New array"
   ]
  },
  {
   "cell_type": "code",
   "execution_count": 427,
   "id": "69f6b783-9b73-4ff7-a790-353b5c5b7255",
   "metadata": {},
   "outputs": [
    {
     "name": "stdout",
     "output_type": "stream",
     "text": [
      "[[98  2  3  4]\n",
      " [ 5  6  7  8]\n",
      " [ 9 10 11 12]]\n",
      "[98  2  3  4  5  6  7  8  9 10 11 12]\n"
     ]
    }
   ],
   "source": [
    "a2 = x.ravel()\n",
    "a2[0] = 98\n",
    "print(x)  # Original array\n",
    "print(a2)  # New array"
   ]
  },
  {
   "cell_type": "code",
   "execution_count": 429,
   "id": "acd12db5-6dd2-4451-9cbd-21369ba2e70d",
   "metadata": {},
   "outputs": [
    {
     "name": "stdout",
     "output_type": "stream",
     "text": [
      "Help on built-in function max in module builtins:\n",
      "\n",
      "max(...)\n",
      "    max(iterable, *[, default=obj, key=func]) -> value\n",
      "    max(arg1, arg2, *args, *[, key=func]) -> value\n",
      "\n",
      "    With a single iterable argument, return its biggest item. The\n",
      "    default keyword-only argument specifies an object to return if\n",
      "    the provided iterable is empty.\n",
      "    With two or more arguments, return the largest argument.\n",
      "\n"
     ]
    }
   ],
   "source": [
    "help(max)"
   ]
  },
  {
   "cell_type": "code",
   "execution_count": null,
   "id": "e16e38a4-6fa6-4a16-aeee-1d0ff4a9d181",
   "metadata": {},
   "outputs": [],
   "source": []
  }
 ],
 "metadata": {
  "kernelspec": {
   "display_name": "Python [conda env:base] *",
   "language": "python",
   "name": "conda-base-py"
  },
  "language_info": {
   "codemirror_mode": {
    "name": "ipython",
    "version": 3
   },
   "file_extension": ".py",
   "mimetype": "text/x-python",
   "name": "python",
   "nbconvert_exporter": "python",
   "pygments_lexer": "ipython3",
   "version": "3.12.7"
  }
 },
 "nbformat": 4,
 "nbformat_minor": 5
}
